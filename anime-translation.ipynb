{
 "cells": [
  {
   "cell_type": "code",
   "execution_count": 4,
   "id": "52d96c26",
   "metadata": {},
   "outputs": [
    {
     "name": "stdout",
     "output_type": "stream",
     "text": [
      "Path to dataset files: /home/codespace/.cache/kagglehub/datasets/jef1056/anime-subtitles/versions/24\n"
     ]
    }
   ],
   "source": [
    "import kagglehub\n",
    "\n",
    "# Download latest version\n",
    "path = kagglehub.dataset_download(\"jef1056/anime-subtitles\")\n",
    "\n",
    "print(\"Path to dataset files:\", path)"
   ]
  },
  {
   "cell_type": "markdown",
   "id": "5eff393a",
   "metadata": {},
   "source": [
    "Change the json files into .txt ones"
   ]
  },
  {
   "cell_type": "code",
   "execution_count": null,
   "id": "cc33dbdc",
   "metadata": {},
   "outputs": [],
   "source": [
    "import json\n",
    "import os\n",
    "\n",
    "folder = path + \"/Anime Datasets V4/Preprocessed/Preprocessed\"\n",
    "\n",
    "json_file = [f for f in os.listdir(folder) if f.endswith(\".json\")]\n",
    "file_dictionary = {}\n",
    "\n",
    "for name in json_file:\n",
    "    file_path = os.path.join(folder, name)\n",
    "    new_file = open(name.replace(\".json\", \".txt\"), \"w\")\n",
    "    with open(file_path, \"r\", encoding=\"utf-8\") as json_file:\n",
    "        data = json.load(json_file)\n",
    "    content = \"\"\n",
    "    for line in data.get(\"conversations\", [])[0]:\n",
    "        content += line[0] + \"\\n\"\n",
    "    new_file.write(content)\n",
    "\n",
    "    new_file.close()\n"
   ]
  }
 ],
 "metadata": {
  "kernelspec": {
   "display_name": "Python 3",
   "language": "python",
   "name": "python3"
  },
  "language_info": {
   "codemirror_mode": {
    "name": "ipython",
    "version": 3
   },
   "file_extension": ".py",
   "mimetype": "text/x-python",
   "name": "python",
   "nbconvert_exporter": "python",
   "pygments_lexer": "ipython3",
   "version": "3.12.1"
  }
 },
 "nbformat": 4,
 "nbformat_minor": 5
}
