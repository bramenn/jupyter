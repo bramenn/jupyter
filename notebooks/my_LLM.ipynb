{
 "cells": [
  {
   "cell_type": "code",
   "execution_count": 1,
   "id": "f4a1e0cf-8f1f-40fa-b752-663bceef526d",
   "metadata": {},
   "outputs": [
    {
     "name": "stdout",
     "output_type": "stream",
     "text": [
      "Requirement already satisfied: nltk in /usr/local/python/3.12.1/lib/python3.12/site-packages (3.9.1)\n",
      "Requirement already satisfied: spacy in /usr/local/python/3.12.1/lib/python3.12/site-packages (3.8.4)\n",
      "Requirement already satisfied: click in /usr/local/python/3.12.1/lib/python3.12/site-packages (from nltk) (8.1.8)\n",
      "Requirement already satisfied: joblib in /home/codespace/.local/lib/python3.12/site-packages (from nltk) (1.4.2)\n",
      "Requirement already satisfied: regex>=2021.8.3 in /usr/local/python/3.12.1/lib/python3.12/site-packages (from nltk) (2024.11.6)\n",
      "Requirement already satisfied: tqdm in /usr/local/python/3.12.1/lib/python3.12/site-packages (from nltk) (4.67.1)\n",
      "Requirement already satisfied: spacy-legacy<3.1.0,>=3.0.11 in /usr/local/python/3.12.1/lib/python3.12/site-packages (from spacy) (3.0.12)\n",
      "Requirement already satisfied: spacy-loggers<2.0.0,>=1.0.0 in /usr/local/python/3.12.1/lib/python3.12/site-packages (from spacy) (1.0.5)\n",
      "Requirement already satisfied: murmurhash<1.1.0,>=0.28.0 in /usr/local/python/3.12.1/lib/python3.12/site-packages (from spacy) (1.0.12)\n",
      "Requirement already satisfied: cymem<2.1.0,>=2.0.2 in /usr/local/python/3.12.1/lib/python3.12/site-packages (from spacy) (2.0.11)\n",
      "Requirement already satisfied: preshed<3.1.0,>=3.0.2 in /usr/local/python/3.12.1/lib/python3.12/site-packages (from spacy) (3.0.9)\n",
      "Requirement already satisfied: thinc<8.4.0,>=8.3.4 in /usr/local/python/3.12.1/lib/python3.12/site-packages (from spacy) (8.3.4)\n",
      "Requirement already satisfied: wasabi<1.2.0,>=0.9.1 in /usr/local/python/3.12.1/lib/python3.12/site-packages (from spacy) (1.1.3)\n",
      "Requirement already satisfied: srsly<3.0.0,>=2.4.3 in /usr/local/python/3.12.1/lib/python3.12/site-packages (from spacy) (2.5.1)\n",
      "Requirement already satisfied: catalogue<2.1.0,>=2.0.6 in /usr/local/python/3.12.1/lib/python3.12/site-packages (from spacy) (2.0.10)\n",
      "Requirement already satisfied: weasel<0.5.0,>=0.1.0 in /usr/local/python/3.12.1/lib/python3.12/site-packages (from spacy) (0.4.1)\n",
      "Requirement already satisfied: typer<1.0.0,>=0.3.0 in /usr/local/python/3.12.1/lib/python3.12/site-packages (from spacy) (0.15.2)\n",
      "Requirement already satisfied: numpy>=1.19.0 in /home/codespace/.local/lib/python3.12/site-packages (from spacy) (2.2.0)\n",
      "Requirement already satisfied: requests<3.0.0,>=2.13.0 in /home/codespace/.local/lib/python3.12/site-packages (from spacy) (2.32.3)\n",
      "Requirement already satisfied: pydantic!=1.8,!=1.8.1,<3.0.0,>=1.7.4 in /usr/local/python/3.12.1/lib/python3.12/site-packages (from spacy) (2.10.6)\n",
      "Requirement already satisfied: jinja2 in /home/codespace/.local/lib/python3.12/site-packages (from spacy) (3.1.4)\n",
      "Requirement already satisfied: setuptools in /home/codespace/.local/lib/python3.12/site-packages (from spacy) (75.6.0)\n",
      "Requirement already satisfied: packaging>=20.0 in /home/codespace/.local/lib/python3.12/site-packages (from spacy) (24.2)\n",
      "Requirement already satisfied: langcodes<4.0.0,>=3.2.0 in /usr/local/python/3.12.1/lib/python3.12/site-packages (from spacy) (3.5.0)\n",
      "Requirement already satisfied: language-data>=1.2 in /usr/local/python/3.12.1/lib/python3.12/site-packages (from langcodes<4.0.0,>=3.2.0->spacy) (1.3.0)\n",
      "Requirement already satisfied: annotated-types>=0.6.0 in /usr/local/python/3.12.1/lib/python3.12/site-packages (from pydantic!=1.8,!=1.8.1,<3.0.0,>=1.7.4->spacy) (0.7.0)\n",
      "Requirement already satisfied: pydantic-core==2.27.2 in /usr/local/python/3.12.1/lib/python3.12/site-packages (from pydantic!=1.8,!=1.8.1,<3.0.0,>=1.7.4->spacy) (2.27.2)\n",
      "Requirement already satisfied: typing-extensions>=4.12.2 in /home/codespace/.local/lib/python3.12/site-packages (from pydantic!=1.8,!=1.8.1,<3.0.0,>=1.7.4->spacy) (4.12.2)\n",
      "Requirement already satisfied: charset-normalizer<4,>=2 in /home/codespace/.local/lib/python3.12/site-packages (from requests<3.0.0,>=2.13.0->spacy) (3.4.0)\n",
      "Requirement already satisfied: idna<4,>=2.5 in /home/codespace/.local/lib/python3.12/site-packages (from requests<3.0.0,>=2.13.0->spacy) (3.10)\n",
      "Requirement already satisfied: urllib3<3,>=1.21.1 in /home/codespace/.local/lib/python3.12/site-packages (from requests<3.0.0,>=2.13.0->spacy) (2.2.3)\n",
      "Requirement already satisfied: certifi>=2017.4.17 in /home/codespace/.local/lib/python3.12/site-packages (from requests<3.0.0,>=2.13.0->spacy) (2024.8.30)\n",
      "Requirement already satisfied: blis<1.3.0,>=1.2.0 in /usr/local/python/3.12.1/lib/python3.12/site-packages (from thinc<8.4.0,>=8.3.4->spacy) (1.2.0)\n",
      "Requirement already satisfied: confection<1.0.0,>=0.0.1 in /usr/local/python/3.12.1/lib/python3.12/site-packages (from thinc<8.4.0,>=8.3.4->spacy) (0.1.5)\n",
      "Requirement already satisfied: shellingham>=1.3.0 in /usr/local/python/3.12.1/lib/python3.12/site-packages (from typer<1.0.0,>=0.3.0->spacy) (1.5.4)\n",
      "Requirement already satisfied: rich>=10.11.0 in /usr/local/python/3.12.1/lib/python3.12/site-packages (from typer<1.0.0,>=0.3.0->spacy) (13.9.4)\n",
      "Requirement already satisfied: cloudpathlib<1.0.0,>=0.7.0 in /usr/local/python/3.12.1/lib/python3.12/site-packages (from weasel<0.5.0,>=0.1.0->spacy) (0.21.0)\n",
      "Requirement already satisfied: smart-open<8.0.0,>=5.2.1 in /usr/local/python/3.12.1/lib/python3.12/site-packages (from weasel<0.5.0,>=0.1.0->spacy) (7.1.0)\n",
      "Requirement already satisfied: MarkupSafe>=2.0 in /home/codespace/.local/lib/python3.12/site-packages (from jinja2->spacy) (3.0.2)\n",
      "Requirement already satisfied: marisa-trie>=1.1.0 in /usr/local/python/3.12.1/lib/python3.12/site-packages (from language-data>=1.2->langcodes<4.0.0,>=3.2.0->spacy) (1.2.1)\n",
      "Requirement already satisfied: markdown-it-py>=2.2.0 in /usr/local/python/3.12.1/lib/python3.12/site-packages (from rich>=10.11.0->typer<1.0.0,>=0.3.0->spacy) (3.0.0)\n",
      "Requirement already satisfied: pygments<3.0.0,>=2.13.0 in /home/codespace/.local/lib/python3.12/site-packages (from rich>=10.11.0->typer<1.0.0,>=0.3.0->spacy) (2.18.0)\n",
      "Requirement already satisfied: wrapt in /usr/local/python/3.12.1/lib/python3.12/site-packages (from smart-open<8.0.0,>=5.2.1->weasel<0.5.0,>=0.1.0->spacy) (1.17.2)\n",
      "Requirement already satisfied: mdurl~=0.1 in /usr/local/python/3.12.1/lib/python3.12/site-packages (from markdown-it-py>=2.2.0->rich>=10.11.0->typer<1.0.0,>=0.3.0->spacy) (0.1.2)\n",
      "\n",
      "\u001b[1m[\u001b[0m\u001b[34;49mnotice\u001b[0m\u001b[1;39;49m]\u001b[0m\u001b[39;49m A new release of pip is available: \u001b[0m\u001b[31;49m24.3.1\u001b[0m\u001b[39;49m -> \u001b[0m\u001b[32;49m25.0.1\u001b[0m\n",
      "\u001b[1m[\u001b[0m\u001b[34;49mnotice\u001b[0m\u001b[1;39;49m]\u001b[0m\u001b[39;49m To update, run: \u001b[0m\u001b[32;49mpython3 -m pip install --upgrade pip\u001b[0m\n",
      "Requirement already satisfied: nltk in /usr/local/python/3.12.1/lib/python3.12/site-packages (3.9.1)\n",
      "Requirement already satisfied: markovify in /usr/local/python/3.12.1/lib/python3.12/site-packages (0.9.4)\n",
      "Requirement already satisfied: click in /usr/local/python/3.12.1/lib/python3.12/site-packages (from nltk) (8.1.8)\n",
      "Requirement already satisfied: joblib in /home/codespace/.local/lib/python3.12/site-packages (from nltk) (1.4.2)\n",
      "Requirement already satisfied: regex>=2021.8.3 in /usr/local/python/3.12.1/lib/python3.12/site-packages (from nltk) (2024.11.6)\n",
      "Requirement already satisfied: tqdm in /usr/local/python/3.12.1/lib/python3.12/site-packages (from nltk) (4.67.1)\n",
      "Requirement already satisfied: unidecode in /usr/local/python/3.12.1/lib/python3.12/site-packages (from markovify) (1.3.8)\n",
      "\n",
      "\u001b[1m[\u001b[0m\u001b[34;49mnotice\u001b[0m\u001b[1;39;49m]\u001b[0m\u001b[39;49m A new release of pip is available: \u001b[0m\u001b[31;49m24.3.1\u001b[0m\u001b[39;49m -> \u001b[0m\u001b[32;49m25.0.1\u001b[0m\n",
      "\u001b[1m[\u001b[0m\u001b[34;49mnotice\u001b[0m\u001b[1;39;49m]\u001b[0m\u001b[39;49m To update, run: \u001b[0m\u001b[32;49mpython3 -m pip install --upgrade pip\u001b[0m\n",
      "Requirement already satisfied: kagglehub in /usr/local/python/3.12.1/lib/python3.12/site-packages (0.3.10)\n",
      "Requirement already satisfied: packaging in /home/codespace/.local/lib/python3.12/site-packages (from kagglehub) (24.2)\n",
      "Requirement already satisfied: pyyaml in /home/codespace/.local/lib/python3.12/site-packages (from kagglehub) (6.0.2)\n",
      "Requirement already satisfied: requests in /home/codespace/.local/lib/python3.12/site-packages (from kagglehub) (2.32.3)\n",
      "Requirement already satisfied: tqdm in /usr/local/python/3.12.1/lib/python3.12/site-packages (from kagglehub) (4.67.1)\n",
      "Requirement already satisfied: charset-normalizer<4,>=2 in /home/codespace/.local/lib/python3.12/site-packages (from requests->kagglehub) (3.4.0)\n",
      "Requirement already satisfied: idna<4,>=2.5 in /home/codespace/.local/lib/python3.12/site-packages (from requests->kagglehub) (3.10)\n",
      "Requirement already satisfied: urllib3<3,>=1.21.1 in /home/codespace/.local/lib/python3.12/site-packages (from requests->kagglehub) (2.2.3)\n",
      "Requirement already satisfied: certifi>=2017.4.17 in /home/codespace/.local/lib/python3.12/site-packages (from requests->kagglehub) (2024.8.30)\n",
      "\n",
      "\u001b[1m[\u001b[0m\u001b[34;49mnotice\u001b[0m\u001b[1;39;49m]\u001b[0m\u001b[39;49m A new release of pip is available: \u001b[0m\u001b[31;49m24.3.1\u001b[0m\u001b[39;49m -> \u001b[0m\u001b[32;49m25.0.1\u001b[0m\n",
      "\u001b[1m[\u001b[0m\u001b[34;49mnotice\u001b[0m\u001b[1;39;49m]\u001b[0m\u001b[39;49m To update, run: \u001b[0m\u001b[32;49mpython3 -m pip install --upgrade pip\u001b[0m\n"
     ]
    }
   ],
   "source": [
    "# Requerimientos\n",
    "!pip install nltk spacy\n",
    "!pip install nltk markovify\n",
    "!pip install kagglehub"
   ]
  },
  {
   "cell_type": "code",
   "execution_count": 2,
   "id": "f5fd441a-0eb1-4ec0-a425-b1368052fedb",
   "metadata": {},
   "outputs": [
    {
     "name": "stderr",
     "output_type": "stream",
     "text": [
      "[nltk_data] Downloading package punkt to /home/codespace/nltk_data...\n",
      "[nltk_data]   Unzipping tokenizers/punkt.zip.\n",
      "[nltk_data] Downloading package punkt_tab to\n",
      "[nltk_data]     /home/codespace/nltk_data...\n",
      "[nltk_data]   Unzipping tokenizers/punkt_tab.zip.\n",
      "[nltk_data] Downloading package stopwords to\n",
      "[nltk_data]     /home/codespace/nltk_data...\n",
      "[nltk_data]   Unzipping corpora/stopwords.zip.\n"
     ]
    },
    {
     "name": "stdout",
     "output_type": "stream",
     "text": [
      "Collecting en-core-web-sm==3.8.0\n",
      "  Downloading https://github.com/explosion/spacy-models/releases/download/en_core_web_sm-3.8.0/en_core_web_sm-3.8.0-py3-none-any.whl (12.8 MB)\n",
      "\u001b[2K     \u001b[90m━━━━━━━━━━━━━━━━━━━━━━━━━━━━━━━━━━━━━━━━\u001b[0m \u001b[32m12.8/12.8 MB\u001b[0m \u001b[31m12.4 MB/s\u001b[0m eta \u001b[36m0:00:00\u001b[0m00:01\u001b[0m\n",
      "\u001b[?25hInstalling collected packages: en-core-web-sm\n",
      "Successfully installed en-core-web-sm-3.8.0\n"
     ]
    },
    {
     "name": "stderr",
     "output_type": "stream",
     "text": [
      "\n",
      "\u001b[1m[\u001b[0m\u001b[34;49mnotice\u001b[0m\u001b[1;39;49m]\u001b[0m\u001b[39;49m A new release of pip is available: \u001b[0m\u001b[31;49m24.3.1\u001b[0m\u001b[39;49m -> \u001b[0m\u001b[32;49m25.0.1\u001b[0m\n",
      "\u001b[1m[\u001b[0m\u001b[34;49mnotice\u001b[0m\u001b[1;39;49m]\u001b[0m\u001b[39;49m To update, run: \u001b[0m\u001b[32;49mpip install --upgrade pip\u001b[0m\n"
     ]
    },
    {
     "name": "stdout",
     "output_type": "stream",
     "text": [
      "\u001b[38;5;2m✔ Download and installation successful\u001b[0m\n",
      "You can now load the package via spacy.load('en_core_web_sm')\n",
      "\u001b[38;5;3m⚠ Restart to reload dependencies\u001b[0m\n",
      "If you are in a Jupyter or Colab notebook, you may need to restart Python in\n",
      "order to load all the package's dependencies. You can do this by selecting the\n",
      "'Restart kernel' or 'Restart runtime' option.\n",
      "Collecting es-core-news-sm==3.8.0\n",
      "  Downloading https://github.com/explosion/spacy-models/releases/download/es_core_news_sm-3.8.0/es_core_news_sm-3.8.0-py3-none-any.whl (12.9 MB)\n",
      "\u001b[2K     \u001b[90m━━━━━━━━━━━━━━━━━━━━━━━━━━━━━━━━━━━━━━━━\u001b[0m \u001b[32m12.9/12.9 MB\u001b[0m \u001b[31m54.4 MB/s\u001b[0m eta \u001b[36m0:00:00\u001b[0m00:01\u001b[0m\n",
      "\u001b[?25hInstalling collected packages: es-core-news-sm\n",
      "Successfully installed es-core-news-sm-3.8.0\n",
      "\u001b[38;5;2m✔ Download and installation successful\u001b[0m\n",
      "You can now load the package via spacy.load('es_core_news_sm')\n",
      "\u001b[38;5;3m⚠ Restart to reload dependencies\u001b[0m\n",
      "If you are in a Jupyter or Colab notebook, you may need to restart Python in\n",
      "order to load all the package's dependencies. You can do this by selecting the\n",
      "'Restart kernel' or 'Restart runtime' option.\n"
     ]
    },
    {
     "name": "stderr",
     "output_type": "stream",
     "text": [
      "\n",
      "\u001b[1m[\u001b[0m\u001b[34;49mnotice\u001b[0m\u001b[1;39;49m]\u001b[0m\u001b[39;49m A new release of pip is available: \u001b[0m\u001b[31;49m24.3.1\u001b[0m\u001b[39;49m -> \u001b[0m\u001b[32;49m25.0.1\u001b[0m\n",
      "\u001b[1m[\u001b[0m\u001b[34;49mnotice\u001b[0m\u001b[1;39;49m]\u001b[0m\u001b[39;49m To update, run: \u001b[0m\u001b[32;49mpip install --upgrade pip\u001b[0m\n"
     ]
    },
    {
     "name": "stdout",
     "output_type": "stream",
     "text": [
      "Recursos cargados correctamente.\n"
     ]
    }
   ],
   "source": [
    "# Descargar modelos y recursos\n",
    "import re\n",
    "import math\n",
    "import nltk\n",
    "import markovify\n",
    "import random\n",
    "from nltk import ngrams, bigrams, FreqDist, word_tokenize\n",
    "from nltk.corpus import stopwords\n",
    "from nltk.util import ngrams\n",
    "nltk.download('punkt')\n",
    "nltk.download('punkt_tab')\n",
    "nltk.download('stopwords')\n",
    "from collections import defaultdict, Counter\n",
    "\n",
    "\n",
    "import spacy\n",
    "try:\n",
    "    nlp_en = spacy.load(\"en_core_web_sm\")\n",
    "except:\n",
    "    from spacy.cli import download\n",
    "    download(\"en_core_web_sm\")\n",
    "    nlp_en = spacy.load(\"en_core_web_sm\")\n",
    "\n",
    "try:\n",
    "    nlp_es = spacy.load(\"es_core_news_sm\")\n",
    "except:\n",
    "    from spacy.cli import download\n",
    "    download(\"es_core_news_sm\")\n",
    "    nlp_es = spacy.load(\"es_core_news_sm\")\n",
    "\n",
    "print(\"Recursos cargados correctamente.\")"
   ]
  },
  {
   "cell_type": "code",
   "execution_count": 3,
   "id": "cb9f5f11-953e-40bb-922e-81a9f49f4dbb",
   "metadata": {},
   "outputs": [],
   "source": [
    "# Corpus en español\n",
    "corpus_es = \"\"\"\n",
    "El 16 de marzo de 2001, el fundador de Wikipedia, Jimmy Wales, anunció, a través de un mensaje de correo, su intención de internacionalizar el proyecto mediante la creación de ediciones en francés, alemán, español y, posiblemente, japonés. En el mismo mensaje comenta, bromeando, que también ha recibido una petición para crear una wiki en catalán.1​\n",
    "\n",
    "Casi dos meses después, el 11 de mayo, los programadores Jason Richey y Toan Vo abrieron once wikis para iniciar las diferentes ediciones de wikipedias en varios idiomas, entre ellos el español.2​ La Wikipedia en esta lengua comenzó a funcionar el 20 de mayo de 2001. Entre sus primeros artículos aparecen «Países del mundo», creado el 21 de mayo de 2001, a las 00:19 UTC,3​ «Ayuda:Cómo empezar una página», creado un día más tarde,4​ e «Informática», el 25 de mayo.5​ A finales de ese año, el número de artículos ascendía a la cifra de 220,6​ pudiéndose leer entre ellos «Física de partículas», «Don Quijote de la Mancha», «Materia» y «Wiki».\n",
    "\n",
    "Meses después, en febrero de 2002, la mayoría de los participantes de esta edición mostraron su desacuerdo con la propuesta, rechazada más tarde, de financiar Wikipedia mediante publicidad. En un principio, los dos fundadores, Jimmy Wales y Larry Sanger, se mostraron a favor de incluir publicidad.7​ Sanger estaba totalmente convencido de incluir anuncios y Wales rechazó las críticas de la comunidad hispanohablante sobre la inclusión de publicidad al escribir que «quiero hacer constar que pienso que dicha gente está seriamente equivocada en muchos aspectos de su visión del mundo. La inclusión de publicidad debería hacerse con buen gusto».8​ Muchos de los editores españoles se separaron del proyecto para crear una bifurcación del proyecto, bautizada como Enciclopedia Libre Universal en Español, la cual, desde su implantación en febrero de 2002 y hasta mediados de 2004, llegó a tener una mayor cantidad de artículos que Wikipedia en español. Las razones esgrimidas para ello fueron «su rechazo a la censura, a la existencia de una línea editorial y a la inclusión de publicidad» y al hecho de que por entonces la inclusión de publicidad dependía de la empresa propietaria,9​ Bomis Inc, una sociedad mercantil propiedad de Wales.\n",
    "\n",
    "\n",
    "Primer artículo de la Wikipedia en español del que se ha hallado registro, «Países del mundo», creado por un usuario anónimo el 21 de mayo de 2001, a las 20:19. Gracias a que Wikipedia conserva un registro de las ediciones, es posible verificar tal edición.\n",
    "Esta protesta de los wikipedistas españoles e hispanohablantes tuvo un papel relevante para que la controversia se zanjara a favor de la exclusión definitiva de la publicidad como forma de financiar el proyecto, ya fuera por el temor de Wales al efecto contagio en otros idiomas o por razones éticas.10​11​ Para alguno de los editores implicados en la bifurcación, esta podría haber sido «la gota que colmó la balanza a favor de una Wikipedia 100% libre de publicidad», mientras que Wales declararía posteriormente que «la bifurcación española fue un hecho importante en la historia de Wikipedia, pero no provocó un cambio».7​ Todas las subsiguientes propuestas sobre la financiación de Wikipedia por medio de publicidad han sido rápida y firmemente rechazadas, también por el propio fundador Jimmy Wales. Este último, sin embargo, en ocasiones ha declarado a la prensa que no descarta por completo la idea.12​\n",
    "\n",
    "Durante un tiempo tras su escisión, la versión en castellano de Wikipedia tuvo una actividad muy escasa. En octubre de 2002 y tras producirse la actualización a la Fase III del software, que pasaría a llamarse MediaWiki, el número de usuarios comenzó de nuevo a incrementarse. En marzo de 2006, Wikipedia en español era ya el más activo de los dos proyectos. Desde entonces, muchos usuarios colaboran en ambos y buena parte de los artículos se traducen entre versiones de Wikipedia, dada la compatibilidad de las licencias.\n",
    "\n",
    "En noviembre de 2003 se tomó la decisión de continuar con el nombre oficial para la versión en castellano, «Wikipedia», en una votación en la que se barajaron nombres tales como «Librepedia», «Huiquipedia» o «Ñiquipedia».13​ Esta votación presentó la novedad de contar con la primera edición (sobre un total de 13 hasta mayo de 2008) de Jimbo Wales (disc. · contr.) en Wikipedia en español. Jimbo Wales votó a favor del nombre «Wikipedia».13​\n",
    "\n",
    "Clasificación por número de artículos\n",
    "Fue durante mucho tiempo, la octava edición más grande en cuanto al número de artículos, hasta que Wikipedia en portugués la sobrepasó en mayo de 2005 y, posteriormente, Wikipedia en italiano en agosto del mismo año, quedando en la décima posición. La tendencia ascendente no llegaría hasta abril de 2007, fecha en la que Wikipedia en español comenzó a escalar posiciones, superando poco a poco a otras versiones. Ese mes logró alcanzar a Wikipedia en sueco, pasando a ocupar de nuevo el noveno lugar de la lista.\n",
    "\n",
    "El 5 de julio de 2009, la versión en castellano de Wikipedia volvió a superar a su homóloga en portugués, recuperando así el octavo lugar en número de artículos, pero solo se mantuvo por dos días. El 7 de julio, Wikipedia en portugués se adelantó a la versión en español, aunque tan solo por unas horas. Un año más tarde, el 7 de junio de 2010, Wikipedia en español superó a Wikipedia en neerlandés y se convirtió en la séptima en número de artículos. El 22 de marzo de 2011, Wikipedia en español sobrepasó a Wikipedia en japonés, pasando a ocupar el sexto lugar. Desde el 26 de octubre de 2011, tras haber superado a Wikipedia en polaco, y hasta el 30 de octubre de 2011, fue la quinta en cuanto al número de artículos. En esa fecha fue superada por la versión neerlandesa, que registraba un aumento rápido, casi exclusivamente por el uso de bots que automatizaban la creación de centenares de miles de artículos pequeños. El 21 de noviembre del mismo año volvió a ser superada, por un día, por Wikipedia en polaco, de la que se mantenía a poca distancia tras haberla superado el mes anterior.\n",
    "\n",
    "Tras superar a su homóloga polaca, se consolidó por poco tiempo como la sexta Wikipedia en cantidad de artículos. Finalmente, Wikipedia en polaco superó a Wikipedia en español, que pasó nuevamente al séptimo puesto. Un año más tarde, el 9 de octubre de 2012, Wikipedia en español volvió por breve espacio de tiempo a sobrepasar a Wikipedia en polaco y nuevamente se ubicó en la sexta posición; esa posición fue disputada por Wikipedia polaca a lo largo del mismo día y los siguientes, superando a Wikipedia en español por unos pocos artículos, manteniéndose ambas Wikipedias a corta distancia, hasta el día 15 del mismo mes, en la que de nuevo Wikipedia en español supera a la polaca. Permaneció en la sexta posición durante dos meses y medio, antes de regresar de nuevo brevemente al séptimo puesto el 25 de diciembre de ese mismo año tras haber sido superada por la Wikipedia en ruso, que había mostrado un rápido crecimiento sostenido en los meses anteriores.\n",
    "\n",
    "La situación fue restaurada el 6 de enero de 2013. El 27 de febrero, la versión en español fue de nuevo superada por la versión en ruso, volviendo a ocupar la séptima plaza. El 16 de mayo de 2013, Wikipedia en español alcanza un millón de artículos, supera a la Wikipedia en ruso y regresa a la sexta posición. Se convirtió así en la séptima edición de Wikipedia en incluir un millón de artículos, tras haberlo conseguido antes las ediciones de la Wikipedia en inglés, que el 1 de marzo de 2006 se convirtió en la primera en superar tal cifra de artículos, seguida el 27 de diciembre de 2009 por la Wikipedia en alemán, el 21 de septiembre de 2010 por la Wikipedia en francés, el 17 de diciembre de 2011 por la Wikipedia en neerlandés, el 22 de enero de 2013 por la Wikipedia en italiano y el 11 de mayo del mismo año por la Wikipedia en ruso. Tras permanecer en esa posición un mes, la Wikipedia en sueco superó a la versión en español el 19 de junio de 2013, dejándola en la séptima posición. Conservó esa plaza durante varios meses, hasta que el 2 de octubre la Wikipedia en ruso volvió a ganar en número de artículos a la edición en español, que pasó a la octava posición (no ocupada desde 2009). A finales de agosto de 2014, la Wikipedia en cebuano hizo pasar a la edición en castellano a la novena plaza. Con posterioridad, en septiembre del mismo año, el crecimiento de la Wikipedia en samareño hizo pasar a la edición en español a la décima plaza, posición que ya había llegado a ocupar en el período entre 2005 y 2007.\n",
    "\"\"\""
   ]
  },
  {
   "cell_type": "code",
   "execution_count": 4,
   "id": "48d4bc07-753d-4bba-abec-147f2ab42123",
   "metadata": {},
   "outputs": [
    {
     "name": "stderr",
     "output_type": "stream",
     "text": [
      "/home/codespace/.python/current/lib/python3.12/site-packages/tqdm/auto.py:21: TqdmWarning: IProgress not found. Please update jupyter and ipywidgets. See https://ipywidgets.readthedocs.io/en/stable/user_install.html\n",
      "  from .autonotebook import tqdm as notebook_tqdm\n"
     ]
    },
    {
     "name": "stdout",
     "output_type": "stream",
     "text": [
      "Downloading from https://www.kaggle.com/api/v1/datasets/download/jmorenobl/corpus-de-la-wikipedia-en-espaol?dataset_version_number=2...\n"
     ]
    },
    {
     "name": "stderr",
     "output_type": "stream",
     "text": [
      "100%|██████████| 1.36G/1.36G [00:24<00:00, 59.1MB/s]"
     ]
    },
    {
     "name": "stdout",
     "output_type": "stream",
     "text": [
      "Extracting files...\n"
     ]
    },
    {
     "name": "stderr",
     "output_type": "stream",
     "text": [
      "\n"
     ]
    },
    {
     "name": "stdout",
     "output_type": "stream",
     "text": [
      "Path to dataset files: /home/codespace/.cache/kagglehub/datasets/jmorenobl/corpus-de-la-wikipedia-en-espaol/versions/2\n"
     ]
    }
   ],
   "source": [
    "import kagglehub\n",
    "\n",
    "# Download latest version\n",
    "path = kagglehub.dataset_download(\"jmorenobl/corpus-de-la-wikipedia-en-espaol\")\n",
    "\n",
    "print(\"Path to dataset files:\", path)"
   ]
  },
  {
   "cell_type": "code",
   "execution_count": null,
   "id": "7c8fd529-aa82-4b7c-b347-9012c5a83ace",
   "metadata": {},
   "outputs": [
    {
     "ename": "",
     "evalue": "",
     "output_type": "error",
     "traceback": [
      "\u001b[1;31mEl kernel se bloqueó al ejecutar código en la celda actual o en una celda anterior. \n",
      "\u001b[1;31mRevise el código de las celdas para identificar una posible causa del error. \n",
      "\u001b[1;31mHaga clic <a href='https://aka.ms/vscodeJupyterKernelCrash'>aquí</a> para obtener más información. \n",
      "\u001b[1;31mVea Jupyter <a href='command:jupyter.viewOutput'>log</a> para obtener más detalles."
     ]
    }
   ],
   "source": [
    "# with open(path + \"/eswiki-latest-pages-articles.txt\") as f:\n",
    "#     corpus_es = f.read()\n",
    "\n",
    "# corpus_es = []\n",
    "# with open(path + \"/eswiki-latest-pages-articles.txt\", \"r\", encoding=\"utf-8\") as f:\n",
    "#     while chunk := f.read(10**6):  # Leer en bloques de 1MB\n",
    "#         corpus_es.append(chunk)\n",
    "\n",
    "# corpus_es = \"\".join(corpus_es)\n",
    "\n",
    "# def read_large_file(file_path, chunk_size=10**6):\n",
    "#     with open(file_path, \"r\", encoding=\"utf-8\") as f:\n",
    "#         while chunk := f.read(chunk_size):  \n",
    "#             yield chunk  # Devuelve cada fragmento sin acumular en memoria\n",
    "\n",
    "# file_path = path + \"/eswiki-latest-pages-articles.txt\"\n",
    "# corpus_es = (chunk for chunk in read_large_file(file_path))\n",
    "\n",
    "\n",
    "import os\n",
    "\n",
    "def read_percent_file(file_path, percent=1):\n",
    "    file_size = os.path.getsize(file_path)  # Tamaño total en bytes\n",
    "    max_bytes = file_size // 10  # 10% del tamaño total\n",
    "\n",
    "    read_bytes = 0\n",
    "    with open(file_path, \"r\", encoding=\"utf-8\") as f:\n",
    "        while read_bytes < max_bytes and (chunk := f.read(10**6)):\n",
    "            yield chunk\n",
    "            read_bytes += len(chunk)\n",
    "\n",
    "file_path = path + \"/eswiki-latest-pages-articles.txt\"\n",
    "corpus_es = (chunk for chunk in read_percent_file(file_path, 1))"
   ]
  },
  {
   "cell_type": "code",
   "execution_count": null,
   "id": "dc2e2622-9dfe-405a-bd79-822758923afc",
   "metadata": {},
   "outputs": [],
   "source": [
    "# Crear un solo modelo con state_size=2\n",
    "modelo_es = markovify.Text(corpus_es, state_size=2)"
   ]
  },
  {
   "cell_type": "code",
   "execution_count": null,
   "id": "01f7fe93-7332-42d6-91be-039ec65f76cc",
   "metadata": {},
   "outputs": [
    {
     "name": "stdout",
     "output_type": "stream",
     "text": [
      "=== Oraciones generadas en español ===\n",
      "Texto generado: Su desarrollo tuvo lugar a un individuo o de otros lugares.\n",
      "Texto generado: En 1990 se habilitó una de ellas doradas, que enmarcaron primitivamente el patio de gallos.\n",
      "Texto generado: No disponían de un estadio de Huracán en la derrota, Casanova mantuvo los límites entre las ciudades de Irlanda en uno de los superhéroes más populares fueron Austria, España, Francia, Alemania, Polonia, Portugal, Reino Unido, Thomas Hobbes, un amigo con Talita, pero siente que el siglo V a.\n",
      "Texto generado: Homero ilustró tanto a la marinería y comercio electrónico.\n",
      "Texto generado: Los productos provienen de patrocinadores y de los godos lanzaron un ataque sobre los elementos autóctonos del México provincial, hasta que su alma que puede ser un eremita ascético en una ciudad persistente en la ley de Hooke, la Royal Society «por su clima generalmente templado, aunque los analizadores léxicos se agrupan en una computadora, puede integrar y asimilar nuevas tecnologías aplicadas a los científicos hasta la fecha la historia considera la principal razón de la homosexualidad como diagnóstico en las conclusiones que cada tipo hay que memorizar 9×10/2 = 45 productos.\n"
     ]
    }
   ],
   "source": [
    "# Generar 5 oraciones con parámetros para más variedad\n",
    "print(\"=== Oraciones generadas en español ===\")\n",
    "for _ in range(5):\n",
    "    oracion_es = modelo_es.make_sentence(tries=1000, max_overlap_ratio=0.4, max_words=100)\n",
    "    if oracion_es:\n",
    "        print(f\"Texto generado: {oracion_es}\")\n",
    "    else:\n",
    "        print(\"No se pudo generar una oración válida (intenta con un corpus más grande).\")"
   ]
  },
  {
   "cell_type": "code",
   "execution_count": null,
   "id": "f917215b-8053-496e-a777-4147b7a8050c",
   "metadata": {},
   "outputs": [],
   "source": []
  }
 ],
 "metadata": {
  "kernelspec": {
   "display_name": "Python 3",
   "language": "python",
   "name": "python3"
  },
  "language_info": {
   "codemirror_mode": {
    "name": "ipython",
    "version": 3
   },
   "file_extension": ".py",
   "mimetype": "text/x-python",
   "name": "python",
   "nbconvert_exporter": "python",
   "pygments_lexer": "ipython3",
   "version": "3.12.1"
  }
 },
 "nbformat": 4,
 "nbformat_minor": 5
}
